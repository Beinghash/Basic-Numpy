{
  "nbformat": 4,
  "nbformat_minor": 0,
  "metadata": {
    "colab": {
      "provenance": []
    },
    "kernelspec": {
      "name": "python3",
      "display_name": "Python 3"
    },
    "language_info": {
      "name": "python"
    }
  },
  "cells": [
    {
      "cell_type": "markdown",
      "source": [
        "# Basic Numpy Arrays"
      ],
      "metadata": {
        "id": "ZXTIlY_TDl9N"
      }
    },
    {
      "cell_type": "code",
      "source": [
        "import sys\n",
        "import numpy as np"
      ],
      "metadata": {
        "id": "mtmcOEkP_7Dt"
      },
      "execution_count": null,
      "outputs": []
    },
    {
      "cell_type": "code",
      "source": [
        "a = np.array([1,2,3,4,5])\n",
        "b = np.array([1,1.2,3,4.5,5])"
      ],
      "metadata": {
        "id": "zwIwmqs2ABYF"
      },
      "execution_count": null,
      "outputs": []
    },
    {
      "cell_type": "code",
      "source": [
        "a[0],a[1]                                             # Prints (np.int64(1), np.int64(2))\n",
        "a[0:]                                                 # Prints array([1, 2, 3, 4, 5])\n",
        "a[1:3]                                                # Prints array([ 2, 3])\n",
        "a[1:-1]                                               # Prints array([2, 3, 4])\n",
        "a[[0,2,-1]]                                           # Prints array([1, 3, 5])"
      ],
      "metadata": {
        "colab": {
          "base_uri": "https://localhost:8080/"
        },
        "id": "lhwMnhIsALs7",
        "outputId": "1dc4ae82-da84-449e-eb97-d35e95009910"
      },
      "execution_count": null,
      "outputs": [
        {
          "output_type": "execute_result",
          "data": {
            "text/plain": [
              "array([1, 3, 5])"
            ]
          },
          "metadata": {},
          "execution_count": 24
        }
      ]
    },
    {
      "cell_type": "code",
      "source": [
        "b                                           # Prints array([1. , 1.2, 3. , 4.5, 5. ])\n",
        "b[0],b[-1],b[2]                             # Prints (np.float64(1.0), np.float64(5.0), np.float64(3.0))\n",
        "b[[0,2,-1]]\n"
      ],
      "metadata": {
        "colab": {
          "base_uri": "https://localhost:8080/"
        },
        "id": "XGziFDbSAiWa",
        "outputId": "62ee5eab-56a4-44d1-c9d9-f70afaa7db8f"
      },
      "execution_count": null,
      "outputs": [
        {
          "output_type": "execute_result",
          "data": {
            "text/plain": [
              "array([1., 3., 5.])"
            ]
          },
          "metadata": {},
          "execution_count": 6
        }
      ]
    },
    {
      "cell_type": "markdown",
      "source": [
        "\n",
        "\n",
        "---\n",
        "\n",
        "\n",
        "# Array Types"
      ],
      "metadata": {
        "id": "eQ6cY6YFDqW7"
      }
    },
    {
      "cell_type": "code",
      "source": [
        "a                                             # Prints array([1, 2, 3, 4, 5])\n",
        "b                                             # Prints array([1. , 1.2, 3. , 4.5, 5. ])\n",
        "a.dtype                                       # Prints dtype('int64')\n",
        "b.dtype                                       # Prints dtype('float64')"
      ],
      "metadata": {
        "colab": {
          "base_uri": "https://localhost:8080/"
        },
        "id": "pTqnbrCnCprK",
        "outputId": "709ceb16-dc66-4f0d-92da-db64b550c5b6"
      },
      "execution_count": null,
      "outputs": [
        {
          "output_type": "execute_result",
          "data": {
            "text/plain": [
              "dtype('float64')"
            ]
          },
          "metadata": {},
          "execution_count": 29
        }
      ]
    },
    {
      "cell_type": "code",
      "source": [
        "np.array([1,2,3,4], dtype = np.float128)                           # Prints array([1., 2., 3., 4.], dtype=float128)\n",
        "np.array([1.,3.,4.34352662,7.6,4.2],dtype = np.int32)              # Prints array([1, 3, 4, 7, 4], dtype=int32)"
      ],
      "metadata": {
        "colab": {
          "base_uri": "https://localhost:8080/"
        },
        "id": "gGZa1Nn6DZze",
        "outputId": "26b471e1-9a7f-4388-b3c9-703c2073ec9e"
      },
      "execution_count": null,
      "outputs": [
        {
          "output_type": "execute_result",
          "data": {
            "text/plain": [
              "array([1, 3, 4, 7, 4], dtype=int32)"
            ]
          },
          "metadata": {},
          "execution_count": 40
        }
      ]
    },
    {
      "cell_type": "code",
      "source": [
        "c = np.array(['a','b','c'])\n",
        "c.dtype"
      ],
      "metadata": {
        "colab": {
          "base_uri": "https://localhost:8080/"
        },
        "id": "ifReBbmgHpgD",
        "outputId": "d75c4753-6982-479b-c05e-54ba276393ae"
      },
      "execution_count": null,
      "outputs": [
        {
          "output_type": "execute_result",
          "data": {
            "text/plain": [
              "dtype('<U1')"
            ]
          },
          "metadata": {},
          "execution_count": 48
        }
      ]
    },
    {
      "cell_type": "code",
      "source": [
        "d = np.array([{'a':1},sys])\n",
        "d                        # Prints (array([{'a': 1}]\n",
        "d.dtype                  # Prints dtype('O'))"
      ],
      "metadata": {
        "colab": {
          "base_uri": "https://localhost:8080/"
        },
        "id": "-bNcUjezIoe4",
        "outputId": "ead454e8-565b-4784-88bc-0b256b81d08d"
      },
      "execution_count": null,
      "outputs": [
        {
          "output_type": "execute_result",
          "data": {
            "text/plain": [
              "(array([{'a': 1}, <module 'sys' (built-in)>], dtype=object), dtype('O'))"
            ]
          },
          "metadata": {},
          "execution_count": 51
        }
      ]
    },
    {
      "cell_type": "markdown",
      "source": [
        "\n",
        "\n",
        "---\n",
        "\n",
        "\n",
        "# Dimensions and Shapes"
      ],
      "metadata": {
        "id": "ddd2__cvKO4J"
      }
    },
    {
      "cell_type": "code",
      "source": [
        "A = np.array([\n",
        "              [1,2,3,4],\n",
        "              [5,6,7,8]\n",
        "              ])\n",
        "print(A)                                     # Print(A) or A"
      ],
      "metadata": {
        "colab": {
          "base_uri": "https://localhost:8080/"
        },
        "id": "STsx_HLAJtuc",
        "outputId": "7a86309b-6f41-49d9-ba20-ed1498946b85"
      },
      "execution_count": null,
      "outputs": [
        {
          "output_type": "stream",
          "name": "stdout",
          "text": [
            "[[1 2 3 4]\n",
            " [5 6 7 8]]\n"
          ]
        }
      ]
    },
    {
      "cell_type": "code",
      "source": [
        "A.shape                                  # Prints (2, 4) i.e 2 Rows and 4 Coloumns\n",
        "A.ndim                                   # Prints 2 i,e 2 dimensions\n",
        "A.size                                   # Prints 8 i.e Total 8 elements are there"
      ],
      "metadata": {
        "colab": {
          "base_uri": "https://localhost:8080/"
        },
        "id": "PXfkvJp7K9zk",
        "outputId": "40266846-705b-4f9a-8c28-7a216a139eb4"
      },
      "execution_count": null,
      "outputs": [
        {
          "output_type": "execute_result",
          "data": {
            "text/plain": [
              "8"
            ]
          },
          "metadata": {},
          "execution_count": 56
        }
      ]
    },
    {
      "cell_type": "code",
      "source": [
        "B = np.array([[\n",
        "    [1,2,3,4,5],\n",
        "    [6,7,8,9,10]\n",
        "],[\n",
        "    [11,12,13,14,15],\n",
        "    [16,17,18,19,20]\n",
        "              ]])"
      ],
      "metadata": {
        "id": "XVTx-_cJLM2z"
      },
      "execution_count": null,
      "outputs": []
    },
    {
      "cell_type": "code",
      "source": [
        "B\n",
        "B.shape                        # Prints (2, 2, 5)\n",
        "B.ndim                         # Prints 3 i,e 3 dimensions\n",
        "B.size                         # Prints 20 i.e Total 20 elements are there"
      ],
      "metadata": {
        "colab": {
          "base_uri": "https://localhost:8080/"
        },
        "id": "Exoy5cGhMdmR",
        "outputId": "4fc35731-dba4-4e86-d7e1-363cbe24991f"
      },
      "execution_count": null,
      "outputs": [
        {
          "output_type": "execute_result",
          "data": {
            "text/plain": [
              "20"
            ]
          },
          "metadata": {},
          "execution_count": 61
        }
      ]
    },
    {
      "cell_type": "markdown",
      "source": [
        "\n",
        "\n",
        "---\n",
        "\n",
        "\n",
        "# Indexing and Slicing of Matrices"
      ],
      "metadata": {
        "id": "T2WnYk_gXcmP"
      }
    },
    {
      "cell_type": "code",
      "source": [
        "A = np.array([\n",
        "    [1,2,3],\n",
        "    [4,5,6],\n",
        "    [7,8,9]\n",
        "])"
      ],
      "metadata": {
        "id": "azz48RkLMfs4"
      },
      "execution_count": null,
      "outputs": []
    },
    {
      "cell_type": "code",
      "source": [
        "A\n",
        "A.shape                                      # Prints (3,3)\n",
        "A.size                                       # prints 9\n",
        "A[1]                                         # prints array([4, 5, 6])\n",
        "A[0][2].item()                               # Prints 3 i.e item() - returns the element instead of along with the data type\n",
        "A[0,2]                                       # Above can be written like this too - Prints 3\n",
        "A[1:]                                        # Prints array([[4, 5, 6],\n",
        "                                                          # [7, 8, 9]])\n",
        "A[:, :2]"
      ],
      "metadata": {
        "colab": {
          "base_uri": "https://localhost:8080/"
        },
        "id": "BdGkr1j-VZnc",
        "outputId": "2b2c9ca4-8d12-42c0-fd37-6772e681b1ea"
      },
      "execution_count": null,
      "outputs": [
        {
          "output_type": "execute_result",
          "data": {
            "text/plain": [
              "array([[1, 2],\n",
              "       [4, 5],\n",
              "       [7, 8]])"
            ]
          },
          "metadata": {},
          "execution_count": 31
        }
      ]
    },
    {
      "cell_type": "code",
      "source": [
        "A[:,1:]"
      ],
      "metadata": {
        "colab": {
          "base_uri": "https://localhost:8080/"
        },
        "id": "SwKz8mjjVhrq",
        "outputId": "e52a9cd3-0624-4ac7-9984-8a0249d9bb1a"
      },
      "execution_count": null,
      "outputs": [
        {
          "output_type": "execute_result",
          "data": {
            "text/plain": [
              "array([[2, 3],\n",
              "       [5, 6],\n",
              "       [8, 9]])"
            ]
          },
          "metadata": {},
          "execution_count": 32
        }
      ]
    },
    {
      "cell_type": "code",
      "source": [
        "A[1:,1:]"
      ],
      "metadata": {
        "colab": {
          "base_uri": "https://localhost:8080/"
        },
        "id": "9hGGTJmueYdR",
        "outputId": "6c94c759-623a-434b-ca60-0892bbccd9b1"
      },
      "execution_count": null,
      "outputs": [
        {
          "output_type": "execute_result",
          "data": {
            "text/plain": [
              "array([[5, 6],\n",
              "       [8, 9]])"
            ]
          },
          "metadata": {},
          "execution_count": 33
        }
      ]
    },
    {
      "cell_type": "code",
      "source": [
        "A[2:,1:]"
      ],
      "metadata": {
        "colab": {
          "base_uri": "https://localhost:8080/"
        },
        "id": "VxvL6Euoekef",
        "outputId": "4b892e27-2182-4322-b8e6-08ceba503c59"
      },
      "execution_count": null,
      "outputs": [
        {
          "output_type": "execute_result",
          "data": {
            "text/plain": [
              "array([[8, 9]])"
            ]
          },
          "metadata": {},
          "execution_count": 35
        }
      ]
    },
    {
      "cell_type": "code",
      "source": [
        "A[1] = np.array([10,10,10])\n",
        "A"
      ],
      "metadata": {
        "colab": {
          "base_uri": "https://localhost:8080/"
        },
        "id": "6qep1lZoesO5",
        "outputId": "6a865fac-e1ec-44a6-a8cd-fc76dc9289f3"
      },
      "execution_count": null,
      "outputs": [
        {
          "output_type": "execute_result",
          "data": {
            "text/plain": [
              "array([[ 1,  2,  3],\n",
              "       [10, 10, 10],\n",
              "       [ 7,  8,  9]])"
            ]
          },
          "metadata": {},
          "execution_count": 37
        }
      ]
    },
    {
      "cell_type": "code",
      "source": [
        "A[2] = np.array([20,20,20])\n",
        "A[2] = 20                         # Does the same job as above\n",
        "A"
      ],
      "metadata": {
        "colab": {
          "base_uri": "https://localhost:8080/"
        },
        "id": "CGlIIrs-e63m",
        "outputId": "3b707d3f-95dc-4f9b-e8ea-dba76b4c6762"
      },
      "execution_count": null,
      "outputs": [
        {
          "output_type": "execute_result",
          "data": {
            "text/plain": [
              "array([[ 1,  2,  3],\n",
              "       [10, 10, 10],\n",
              "       [20, 20, 20]])"
            ]
          },
          "metadata": {},
          "execution_count": 42
        }
      ]
    },
    {
      "cell_type": "code",
      "source": [
        "A[1,2] = 35                                   # Row 1 & Coloumn 2\n",
        "A"
      ],
      "metadata": {
        "colab": {
          "base_uri": "https://localhost:8080/"
        },
        "id": "kgIUUcL6fEg9",
        "outputId": "e8b1d44f-9b7b-4305-e850-a1cee2e24d1b"
      },
      "execution_count": null,
      "outputs": [
        {
          "output_type": "execute_result",
          "data": {
            "text/plain": [
              "array([[ 1,  2,  3],\n",
              "       [10, 10, 35],\n",
              "       [20, 20, 20]])"
            ]
          },
          "metadata": {},
          "execution_count": 45
        }
      ]
    },
    {
      "cell_type": "code",
      "source": [
        "A"
      ],
      "metadata": {
        "colab": {
          "base_uri": "https://localhost:8080/"
        },
        "id": "-UjxgAZCfG7U",
        "outputId": "f381b1c4-8782-4c48-90a4-6d4976e7d51d"
      },
      "execution_count": null,
      "outputs": [
        {
          "output_type": "execute_result",
          "data": {
            "text/plain": [
              "array([[ 1,  2,  3],\n",
              "       [10, 10, 35],\n",
              "       [20, 20, 20]])"
            ]
          },
          "metadata": {},
          "execution_count": 46
        }
      ]
    },
    {
      "cell_type": "markdown",
      "source": [
        "\n",
        "\n",
        "---\n",
        "# Summary statistics\n"
      ],
      "metadata": {
        "id": "meEmUTsCfw0H"
      }
    },
    {
      "cell_type": "code",
      "source": [
        "z = np.array([1,2,3,4])\n",
        "z.sum().item()                          # Prints 10\n",
        "z.mean().item()                         # Prints 2.5\n",
        "z.std().item()                          # Prints 1.118033988749895"
      ],
      "metadata": {
        "colab": {
          "base_uri": "https://localhost:8080/"
        },
        "id": "Qp2NN_-3fkvJ",
        "outputId": "a1ad91d9-394c-4a58-fdac-673bf87f89e8"
      },
      "execution_count": null,
      "outputs": [
        {
          "output_type": "execute_result",
          "data": {
            "text/plain": [
              "1.118033988749895"
            ]
          },
          "metadata": {},
          "execution_count": 53
        }
      ]
    },
    {
      "cell_type": "code",
      "source": [
        "A.sum(axis=0)                            # Performs the coloumn wise operation - Prints array([31, 32, 58])\n",
        "A.sum(axis=1)                            # Performs the Row wise operation     - Prints array([ 6, 55, 60])\n",
        "A.mean(axis=0)                           # Performs the Coloumn wise operation - prints array([10.33333333, 10.66666667, 19.33333333])\n",
        "A.mean(axis=1)                           # Performs the Row wise operation     - prints array([ 2.        , 18.33333333, 20.        ]"
      ],
      "metadata": {
        "colab": {
          "base_uri": "https://localhost:8080/"
        },
        "id": "0AoKeDXDf7Y2",
        "outputId": "df0e4c14-03a6-4c81-c83b-64b942059944"
      },
      "execution_count": null,
      "outputs": [
        {
          "output_type": "execute_result",
          "data": {
            "text/plain": [
              "array([ 2.        , 18.33333333, 20.        ])"
            ]
          },
          "metadata": {},
          "execution_count": 58
        }
      ]
    },
    {
      "cell_type": "code",
      "source": [
        "f = np.arange(4)                                     # Creats the array of given size - Prints array([0, 1, 2, 3])\n",
        "f + 10                                               # Can Perform arithmetic functions to the complete array - Prints array([10, 11, 12, 13])\n",
        "f - 10                                               # Can Perform arithmetic functions to the complete array - Prints array([-10,  -9,  -8,  -7])\n",
        "f * 10                                               # Can Perform arithmetic functions to the complete array - Prints array([ 0, 10, 20, 30])\n",
        "f * 10                                               # Can Perform arithmetic functions to the complete array - Prints array([ 0, 10, 20, 30])\n",
        "f / 10                                               # Can Perform arithmetic functions to the complete array - Prints array([0. , 0.1, 0.2, 0.3])\n",
        "f += 100                                             # Can Perform arithmetic functions to the complete array - Prints array([100, 101, 102, 103])\n",
        "[i.item() * 10 for i in f]                           # Prints [1000, 1010, 1020, 1030]"
      ],
      "metadata": {
        "id": "_6e5d6mNjg3l",
        "colab": {
          "base_uri": "https://localhost:8080/"
        },
        "outputId": "5ef53a9d-dd25-4547-d37d-342f90e16ef9"
      },
      "execution_count": null,
      "outputs": [
        {
          "output_type": "execute_result",
          "data": {
            "text/plain": [
              "[1000, 1010, 1020, 1030]"
            ]
          },
          "metadata": {},
          "execution_count": 71
        }
      ]
    },
    {
      "cell_type": "code",
      "source": [
        "a = np.arange(4)\n",
        "b = np.arange(4)"
      ],
      "metadata": {
        "id": "HDcnN3OaufKX"
      },
      "execution_count": null,
      "outputs": []
    },
    {
      "cell_type": "code",
      "source": [
        "a + b\n",
        "a * b"
      ],
      "metadata": {
        "colab": {
          "base_uri": "https://localhost:8080/"
        },
        "id": "OJfDdMFcunXt",
        "outputId": "4a663da0-4334-40aa-c0f1-39009053dba8"
      },
      "execution_count": null,
      "outputs": [
        {
          "output_type": "execute_result",
          "data": {
            "text/plain": [
              "array([0, 1, 4, 9])"
            ]
          },
          "metadata": {},
          "execution_count": 79
        }
      ]
    },
    {
      "cell_type": "markdown",
      "source": [
        "\n",
        "\n",
        "---\n",
        "\n",
        "# Boolean arrays"
      ],
      "metadata": {
        "id": "9TjGdZnivN5k"
      }
    },
    {
      "cell_type": "code",
      "source": [
        "c = np.arange(4)\n",
        "c >= 2                                                # Prints array([False, False,  True,  True])\n",
        "c[c <= 2]                                             # Prints array([0, 1, 2])"
      ],
      "metadata": {
        "colab": {
          "base_uri": "https://localhost:8080/"
        },
        "id": "F4Y1zXKluy1O",
        "outputId": "c9225649-9d20-47fd-8f90-98c15f918064"
      },
      "execution_count": null,
      "outputs": [
        {
          "output_type": "execute_result",
          "data": {
            "text/plain": [
              "array([0, 1, 2])"
            ]
          },
          "metadata": {},
          "execution_count": 83
        }
      ]
    },
    {
      "cell_type": "code",
      "source": [
        "D = np.random.randint(100)                           # np.random.randint(100): This generates random integers between 0 and 99 (since 100 is exclusive)."
      ],
      "metadata": {
        "colab": {
          "base_uri": "https://localhost:8080/"
        },
        "id": "EryHgRyexJFZ",
        "outputId": "3c02563d-b68f-4560-97ef-223476d025b6"
      },
      "execution_count": null,
      "outputs": [
        {
          "output_type": "execute_result",
          "data": {
            "text/plain": [
              "68"
            ]
          },
          "metadata": {},
          "execution_count": 85
        }
      ]
    },
    {
      "cell_type": "code",
      "source": [
        "D = np.random.randint(100, size = (3,3))             # Generates random 3*3 array\n",
        "D"
      ],
      "metadata": {
        "colab": {
          "base_uri": "https://localhost:8080/"
        },
        "id": "wCKVvrQdyMWi",
        "outputId": "3f7fc1a0-6661-4bf1-d092-61d77e8abd48"
      },
      "execution_count": null,
      "outputs": [
        {
          "output_type": "execute_result",
          "data": {
            "text/plain": [
              "array([[98, 83, 75],\n",
              "       [86, 70, 12],\n",
              "       [82, 65,  7]])"
            ]
          },
          "metadata": {},
          "execution_count": 90
        }
      ]
    },
    {
      "cell_type": "code",
      "source": [
        "D[D >= 35]"
      ],
      "metadata": {
        "colab": {
          "base_uri": "https://localhost:8080/"
        },
        "id": "YRY9JZ_cykvK",
        "outputId": "fe52e11b-1856-444b-ca32-d5daf789ce4f"
      },
      "execution_count": null,
      "outputs": [
        {
          "output_type": "execute_result",
          "data": {
            "text/plain": [
              "array([98, 83, 75, 86, 70, 82, 65])"
            ]
          },
          "metadata": {},
          "execution_count": 92
        }
      ]
    },
    {
      "cell_type": "markdown",
      "source": [
        "\n",
        "\n",
        "---\n",
        "\n",
        "# Size of objects in Memory\n"
      ],
      "metadata": {
        "id": "UZlCC_KOzEiT"
      }
    },
    {
      "cell_type": "code",
      "source": [
        "# An integer in Python is > 24bytes\n",
        "sys.getsizeof(1)                                   # Prints 28\n",
        "# Longs are even larger\n",
        "sys.getsizeof(10**100)                             # Prints 72\n",
        "# Numpy size is much smaller\n",
        "np.dtype(int).itemsize                             # Prints 7\n",
        "# Numpy size is much smaller\n",
        "np.dtype(np.int8).itemsize                         # Prints 1\n",
        "# A one-element list\n",
        "sys.getsizeof([1])                                 # Prints 64"
      ],
      "metadata": {
        "colab": {
          "base_uri": "https://localhost:8080/"
        },
        "id": "ZlhaN8KPy7hE",
        "outputId": "7a894ab8-3926-4663-9e2b-48b058355d6e"
      },
      "execution_count": null,
      "outputs": [
        {
          "output_type": "execute_result",
          "data": {
            "text/plain": [
              "64"
            ]
          },
          "metadata": {},
          "execution_count": 94
        }
      ]
    },
    {
      "cell_type": "markdown",
      "source": [
        "\n",
        "\n",
        "---\n",
        "\n",
        "\n",
        "# Useful Numpy functions"
      ],
      "metadata": {
        "id": "gTyKvmYy4nzI"
      }
    },
    {
      "cell_type": "code",
      "source": [
        "\n",
        "np.random.randint(100, size = 2)"
      ],
      "metadata": {
        "colab": {
          "base_uri": "https://localhost:8080/"
        },
        "id": "CMILqZg83y-R",
        "outputId": "40784cd1-36f1-40ed-c698-3e803a1f1abd"
      },
      "execution_count": null,
      "outputs": [
        {
          "output_type": "execute_result",
          "data": {
            "text/plain": [
              "array([89, 54])"
            ]
          },
          "metadata": {},
          "execution_count": 107
        }
      ]
    },
    {
      "cell_type": "code",
      "source": [
        "np.random.normal(size=2)"
      ],
      "metadata": {
        "colab": {
          "base_uri": "https://localhost:8080/"
        },
        "id": "L7qu3fB741bA",
        "outputId": "ca67ce07-6d06-4b8f-dcac-658fdece166f"
      },
      "execution_count": null,
      "outputs": [
        {
          "output_type": "execute_result",
          "data": {
            "text/plain": [
              "array([-0.02555938, -1.11328924])"
            ]
          },
          "metadata": {},
          "execution_count": 110
        }
      ]
    },
    {
      "cell_type": "code",
      "source": [
        "np.arange(10)\n",
        "np.arange(5,10)                              # Creats the array from 5 to 9 i.e array([5, 6, 7, 8, 9])\n",
        "np.arange(7,78)                              # Creates the array from 7 to 77\n",
        "np.arange(2,20,2)                            # Satrting from 2 and By stepping 2 elements it prints array([ 2,  4,  6,  8, 10, 12, 14, 16, 18])"
      ],
      "metadata": {
        "colab": {
          "base_uri": "https://localhost:8080/"
        },
        "id": "c1pGYS9s6RZ7",
        "outputId": "c7630531-bcb7-49c0-906f-9b29139fe48a"
      },
      "execution_count": null,
      "outputs": [
        {
          "output_type": "execute_result",
          "data": {
            "text/plain": [
              "array([ 2,  4,  6,  8, 10, 12, 14, 16, 18])"
            ]
          },
          "metadata": {},
          "execution_count": 117
        }
      ]
    },
    {
      "cell_type": "code",
      "source": [
        "np.arange(5,10,.5)"
      ],
      "metadata": {
        "colab": {
          "base_uri": "https://localhost:8080/"
        },
        "id": "iceCJtUf6j5x",
        "outputId": "ca95d7fb-12eb-4fd4-f110-72b3b77cf843"
      },
      "execution_count": null,
      "outputs": [
        {
          "output_type": "execute_result",
          "data": {
            "text/plain": [
              "array([5. , 5.5, 6. , 6.5, 7. , 7.5, 8. , 8.5, 9. , 9.5])"
            ]
          },
          "metadata": {},
          "execution_count": 118
        }
      ]
    },
    {
      "cell_type": "code",
      "source": [
        "np.arange(10).reshape(2,5)"
      ],
      "metadata": {
        "colab": {
          "base_uri": "https://localhost:8080/"
        },
        "id": "hsMxoclz_GaA",
        "outputId": "fafa83be-8616-4e21-d42e-2c5031523934"
      },
      "execution_count": null,
      "outputs": [
        {
          "output_type": "execute_result",
          "data": {
            "text/plain": [
              "array([[0, 1, 2, 3, 4],\n",
              "       [5, 6, 7, 8, 9]])"
            ]
          },
          "metadata": {},
          "execution_count": 123
        }
      ]
    },
    {
      "cell_type": "code",
      "source": [
        "np.arange(20).reshape(5,4)"
      ],
      "metadata": {
        "colab": {
          "base_uri": "https://localhost:8080/"
        },
        "id": "uEcINslr_x_C",
        "outputId": "ee09ab60-5995-4ec9-ac0d-6a0600c010e8"
      },
      "execution_count": null,
      "outputs": [
        {
          "output_type": "execute_result",
          "data": {
            "text/plain": [
              "array([[ 0,  1,  2,  3],\n",
              "       [ 4,  5,  6,  7],\n",
              "       [ 8,  9, 10, 11],\n",
              "       [12, 13, 14, 15],\n",
              "       [16, 17, 18, 19]])"
            ]
          },
          "metadata": {},
          "execution_count": 124
        }
      ]
    },
    {
      "cell_type": "code",
      "source": [
        "np.linspace(0, 1, 5)                       # If you want 5 points between 0 and 1\n",
        "np.linspace(0, 1, 20)"
      ],
      "metadata": {
        "colab": {
          "base_uri": "https://localhost:8080/"
        },
        "id": "Rv0cd9HGAS5U",
        "outputId": "63f1c320-0fee-4b3b-ce2b-7a483b132c5e"
      },
      "execution_count": null,
      "outputs": [
        {
          "output_type": "execute_result",
          "data": {
            "text/plain": [
              "array([0.        , 0.05263158, 0.10526316, 0.15789474, 0.21052632,\n",
              "       0.26315789, 0.31578947, 0.36842105, 0.42105263, 0.47368421,\n",
              "       0.52631579, 0.57894737, 0.63157895, 0.68421053, 0.73684211,\n",
              "       0.78947368, 0.84210526, 0.89473684, 0.94736842, 1.        ])"
            ]
          },
          "metadata": {},
          "execution_count": 126
        }
      ]
    },
    {
      "cell_type": "code",
      "source": [
        "np.identity(3)                           # It creates a 3x3 identity matrix."
      ],
      "metadata": {
        "colab": {
          "base_uri": "https://localhost:8080/"
        },
        "id": "ADzExacABVGO",
        "outputId": "2184560b-4ea9-41f1-fb1d-8c1dbdf96484"
      },
      "execution_count": null,
      "outputs": [
        {
          "output_type": "execute_result",
          "data": {
            "text/plain": [
              "array([[1., 0., 0.],\n",
              "       [0., 1., 0.],\n",
              "       [0., 0., 1.]])"
            ]
          },
          "metadata": {},
          "execution_count": 127
        }
      ]
    },
    {
      "cell_type": "code",
      "source": [
        "np.eye(3)                               # It creates a 3x3 identity matrix."
      ],
      "metadata": {
        "colab": {
          "base_uri": "https://localhost:8080/"
        },
        "id": "6_NyAFilBip2",
        "outputId": "e92963f8-ef7f-4a67-b084-1484517e3583"
      },
      "execution_count": null,
      "outputs": [
        {
          "output_type": "execute_result",
          "data": {
            "text/plain": [
              "array([[1., 0., 0.],\n",
              "       [0., 1., 0.],\n",
              "       [0., 0., 1.]])"
            ]
          },
          "metadata": {},
          "execution_count": 128
        }
      ]
    },
    {
      "cell_type": "code",
      "source": [
        "\"Hello World\"[6]"
      ],
      "metadata": {
        "colab": {
          "base_uri": "https://localhost:8080/",
          "height": 35
        },
        "id": "Qh5EkR6lB1QA",
        "outputId": "c8865086-6456-4072-eee2-b8b10291b477"
      },
      "execution_count": null,
      "outputs": [
        {
          "output_type": "execute_result",
          "data": {
            "text/plain": [
              "'W'"
            ],
            "application/vnd.google.colaboratory.intrinsic+json": {
              "type": "string"
            }
          },
          "metadata": {},
          "execution_count": 129
        }
      ]
    }
  ]
}